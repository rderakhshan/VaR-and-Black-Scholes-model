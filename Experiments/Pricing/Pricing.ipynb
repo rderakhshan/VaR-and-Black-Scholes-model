{
 "cells": [
  {
   "cell_type": "code",
   "execution_count": 1,
   "metadata": {},
   "outputs": [],
   "source": [
    "# Importing required libraries\n",
    "\n",
    "# !pip install numpy\n",
    "# !pip install pandas\n",
    "# !pip install openpyxl\n",
    "# !pip install plotly-express\n",
    "# !pip install nbformat==4.2.0\n",
    "# !pip install ipykernel\n",
    "# !pip install --upgrade nbformat\n",
    "# !pip install matplotlib\n",
    "# !pip install chart-studio\n",
    "\n",
    "import matplotlib.pyplot as plt\n",
    "import plotly.express as px\n",
    "import plotly.figure_factory as ff\n",
    "import numpy as np   # For numericall array \n",
    "import pandas as pd  # For dataframe calculations\n",
    "from datetime import datetime, timedelta\n",
    "from scipy.stats import norm\n"
   ]
  },
  {
   "cell_type": "code",
   "execution_count": 2,
   "metadata": {},
   "outputs": [],
   "source": [
    "# Input parameters \n",
    "Trade_date    = \"11/23/2022\"\n",
    "Expire_date   = \"05/10/2023\"\n",
    "Spot_price    = 19 # In unit of currency\n",
    "Strike_price  = 17 # \n",
    "Interest_rate = 0.005\n",
    "Divident_ampl = 0.0\n",
    "No_of_divide  = 5\n",
    "Volatility    = 0.3\n",
    "Covar_yield   = 0"
   ]
  },
  {
   "cell_type": "code",
   "execution_count": 3,
   "metadata": {},
   "outputs": [],
   "source": [
    "class Pricing:\n",
    "    \"\"\"\" \n",
    "    The code is designed to claclate historical VaR (1 day with .99 confidence level) for the FX portfolio assuming no corrolation between currencies.\n",
    "    \"\"\"\n",
    "    \n",
    "    def __init__(self, Trade_date, Expire_date, Spot_price, Strike_price, Interest_rate, Divident_ampl, Volatility, Covar_yield, Number_of_payments):\n",
    "\n",
    "        self.Tr_date             = Trade_date                                                  \n",
    "        self.Ex_date             = Expire_date                               \n",
    "        self.Sp_price            = Spot_price                           \n",
    "        self.St_price            = Strike_price                           \t\n",
    "        self.Ir_rate             = Interest_rate                          \n",
    "        self.Dv_ampl             = Divident_ampl\n",
    "        self.Volatality          = Volatility\n",
    "        self.Covar_yield         = Covar_yield\n",
    "        self.No_DV_payments      = Number_of_payments\n",
    "\n",
    "    def Forward_price(self):\n",
    "\n",
    "        # Convert the input date strings to datetime objects\n",
    "        start_date = datetime.strptime(self.Tr_date, '%m/%d/%Y')\n",
    "        end_date = datetime.strptime(self.Ex_date  , '%m/%d/%Y')\n",
    "\n",
    "        # Calculate the total number of days between the start and end dates\n",
    "        self.total_days = (end_date - start_date).days\n",
    "\n",
    "        # Calculate the interval between each generated date\n",
    "        interval = self.total_days / (self.No_DV_payments + 1)\n",
    "        \n",
    "        # Generate the dates\n",
    "        dates = [start_date + timedelta(days=interval * i) for i in range(1, self.No_DV_payments + 1)]\n",
    "        \n",
    "        # Calculate the relative days between the generated dates and the end date\n",
    "        self.relative_days = [abs((end_date - date).days) / 365 for date in dates]\n",
    "\n",
    "        self.divident_points = [self.Dv_ampl] * len(self.relative_days)\n",
    "\n",
    "        # Forward pricing calculation part\n",
    "\n",
    "        self.F = self.Sp_price*np.exp((self.Ir_rate - self.Covar_yield)*(self.total_days/365))\n",
    "\n",
    "        for i in range(self.No_DV_payments):\n",
    "\n",
    "            self.F = self.F - self.divident_points[i]*np.exp(-(self.Ir_rate - self.Covar_yield)*self.relative_days[i])\n",
    "\n",
    "        return self.F\n",
    "    \n",
    "\n",
    "    def d1_and_d2_forward_price(self):\n",
    "\n",
    "        self.d1 = (np.log(self.F/self.St_price) + (0.5*(self.Volatality**2))*(self.total_days/365))/(self.Volatality*np.sqrt(self.total_days/365)) \n",
    "\n",
    "        self.d2 = self.d1 - self.Volatality*np.sqrt(self.total_days/365)\n",
    "\n",
    "        return self.d1, self.d2\n",
    "\n",
    "\n",
    "    def d1_and_d2_spot_price(self):\n",
    "\n",
    "        self.d1 = ((np.log(self.Sp_price/self.St_price)) + (self.Ir_rate +0.5*(self.Volatality**2))*(self.total_days/365))/(self.Volatality*np.sqrt(self.total_days/365))\n",
    "        \n",
    "        self.d2 = self.d1 - self.Volatality*np.sqrt(self.total_days/365)\n",
    "\n",
    "        return self.d1, self.d2\n",
    "    \n",
    "\n",
    "    def Call_and_put_from_forward(self):\n",
    "\n",
    "        self.d1_BL = (np.log(self.F/self.St_price) + (0.5*(self.Volatality**2))*(self.total_days/365))/(self.Volatality*np.sqrt(self.total_days/365)) \n",
    "\n",
    "        self.d2_BL = self.d1 - self.Volatality*np.sqrt(self.total_days/365)\n",
    "\n",
    "\n",
    "        # Call and put price\n",
    "\n",
    "        self.call = (self.F*norm.cdf(self.d1_BL, loc = 0, scale = 1)   - self.St_price*norm.cdf(self.d2_BL, loc = 0, scale = 1))*np.exp(- self.Ir_rate*(self.total_days/365))\n",
    "\n",
    "        self.put  = (self.St_price*norm.cdf(-self.d2_BL, loc = 0, scale = 1) - self.F*norm.cdf(-self.d1_BL, loc = 0, scale = 1))*np.exp(- self.Ir_rate*(self.total_days/365))\n",
    "\n",
    "        return self.call, self.put\n",
    "\n",
    "\n",
    "    def Call_and_put_from_spot(self):\n",
    "\n",
    "        self.d1_BL = ((np.log(self.Sp_price/self.St_price)) + (self.Ir_rate + 0.5*self.Volatality**2)*(self.total_days/365))/(self.Volatality*np.sqrt(self.total_days/365))\n",
    "\n",
    "        self.d2_BL = self.d1 - self.Volatality*np.sqrt(self.total_days/365)\n",
    "\n",
    "        self.call = norm.cdf(self.d1_BL, loc = 0, scale = 1)*self.Sp_price - norm.cdf(self.d2_BL, loc = 0, scale = 1)*self.St_price*np.exp(- self.Ir_rate*(self.total_days/365))\n",
    "\n",
    "        self.put  = norm.cdf(-self.d2_BL, loc = 0, scale = 1)*self.St_price*np.exp(- self.Ir_rate*(self.total_days/365)) - norm.cdf(-self.d1_BL, loc = 0, scale = 1)*self.Sp_price\n",
    "\n",
    "        return self.call, self.put"
   ]
  },
  {
   "cell_type": "code",
   "execution_count": 4,
   "metadata": {},
   "outputs": [],
   "source": [
    "pricing = Pricing(Trade_date, Expire_date, Spot_price, Strike_price, Interest_rate, Divident_ampl, Volatility, Covar_yield,  No_of_divide)"
   ]
  },
  {
   "cell_type": "code",
   "execution_count": 5,
   "metadata": {},
   "outputs": [
    {
     "name": "stdout",
     "output_type": "stream",
     "text": [
      "19.043776380898034\n"
     ]
    }
   ],
   "source": [
    "Dividents = pricing.Forward_price()\n",
    "\n",
    "print(Dividents)"
   ]
  },
  {
   "cell_type": "code",
   "execution_count": 6,
   "metadata": {},
   "outputs": [
    {
     "name": "stdout",
     "output_type": "stream",
     "text": [
      "Calculated d1 and d2 from forward price method are: (0.6596, 0.4560)\n"
     ]
    }
   ],
   "source": [
    "D1, D2 = pricing.d1_and_d2_forward_price()\n",
    "print(\"Calculated d1 and d2 from forward price method are: ({:.4f}, {:.4f})\".format(D1, D2))"
   ]
  },
  {
   "cell_type": "code",
   "execution_count": 7,
   "metadata": {},
   "outputs": [
    {
     "name": "stdout",
     "output_type": "stream",
     "text": [
      "Calculated d1 and d2 from spot price method are: (0.6596, 0.4560)\n"
     ]
    }
   ],
   "source": [
    "D1, D2 = pricing.d1_and_d2_spot_price()\n",
    "print(\"Calculated d1 and d2 from spot price method are: ({:.4f}, {:.4f})\".format(D1, D2))"
   ]
  },
  {
   "cell_type": "code",
   "execution_count": 8,
   "metadata": {},
   "outputs": [
    {
     "name": "stdout",
     "output_type": "stream",
     "text": [
      "Calculated d1 and d2 from spot price method are: (2.6969, 0.6579)\n"
     ]
    }
   ],
   "source": [
    "call, put = pricing.Call_and_put_from_forward()\n",
    "print(\"Calculated d1 and d2 from spot price method are: ({:.4f}, {:.4f})\".format(call, put))"
   ]
  },
  {
   "cell_type": "code",
   "execution_count": 9,
   "metadata": {},
   "outputs": [
    {
     "name": "stdout",
     "output_type": "stream",
     "text": [
      "Calculated d1 and d2 from spot price method are: (2.6969, 0.6579)\n"
     ]
    }
   ],
   "source": [
    "call, put = pricing.Call_and_put_from_spot()\n",
    "print(\"Calculated d1 and d2 from spot price method are: ({:.4f}, {:.4f})\".format(call, put))"
   ]
  },
  {
   "cell_type": "code",
   "execution_count": 10,
   "metadata": {},
   "outputs": [],
   "source": [
    "\n",
    "def unit_test_parity(Trade_date, Expire_date, Spot_price, Strike_price, Interest_rate):\n",
    "\n",
    "    # end def# Convert the input date strings to datetime objects\n",
    "    start_date = datetime.strptime(Trade_date, '%m/%d/%Y')\n",
    "    end_date = datetime.strptime(Expire_date  , '%m/%d/%Y')\n",
    "\n",
    "    # Calculate the total number of days between the start and end dates\n",
    "    total_days = (end_date - start_date).days\n",
    "\n",
    "    time_horozon = ((end_date - start_date).days)/365\n",
    "\n",
    "    # Parity condition C - P = S - DK\n",
    "\n",
    "    c_p = float(Spot_price - Strike_price*np.exp(- Interest_rate*time_horozon))\n",
    "\n",
    "    return  float(\"{:.2f}\".format(c_p))\n"
   ]
  },
  {
   "cell_type": "code",
   "execution_count": 11,
   "metadata": {},
   "outputs": [
    {
     "data": {
      "text/plain": [
       "2.04"
      ]
     },
     "execution_count": 11,
     "metadata": {},
     "output_type": "execute_result"
    }
   ],
   "source": [
    "unit_test_parity(Trade_date, Expire_date, Spot_price, Strike_price, Interest_rate)"
   ]
  },
  {
   "cell_type": "code",
   "execution_count": null,
   "metadata": {},
   "outputs": [],
   "source": []
  }
 ],
 "metadata": {
  "kernelspec": {
   "display_name": "cicd",
   "language": "python",
   "name": "python3"
  },
  "language_info": {
   "codemirror_mode": {
    "name": "ipython",
    "version": 3
   },
   "file_extension": ".py",
   "mimetype": "text/x-python",
   "name": "python",
   "nbconvert_exporter": "python",
   "pygments_lexer": "ipython3",
   "version": "3.11.0"
  }
 },
 "nbformat": 4,
 "nbformat_minor": 2
}
