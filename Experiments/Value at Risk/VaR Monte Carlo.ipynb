{
 "cells": [
  {
   "cell_type": "code",
   "execution_count": 57,
   "metadata": {},
   "outputs": [],
   "source": [
    "import numpy as np\n",
    "import pandas as pd\n",
    "import datetime as dt\n",
    "import yfinance as yf\n",
    "import matplotlib.pyplot as plt\n",
    "\n",
    "# !pip install datetime\n",
    "# !pip install yfinance\n",
    "\n",
    "\n",
    "years = 15\n",
    "\n",
    "endDate = dt.datetime.now()\n",
    "startDate = endDate - dt.timedelta(days=365*years)\n",
    "\n",
    "tickers = ['SPY', 'BND', 'GLD', 'QQQ', 'VTI']"
   ]
  },
  {
   "cell_type": "code",
   "execution_count": 58,
   "metadata": {},
   "outputs": [],
   "source": [
    "### Set time from to a certain number of years\n",
    "years = 15\n",
    "\n",
    "endDate = dt.datetime.now()\n",
    "startDate = endDate - dt.timedelta(days = 365*years)\n",
    "\n",
    "### Create a list of tickers\n",
    "tickers = ['SPY','BND','GLD','QQQ','VTI']"
   ]
  },
  {
   "cell_type": "code",
   "execution_count": 59,
   "metadata": {},
   "outputs": [
    {
     "name": "stderr",
     "output_type": "stream",
     "text": [
      "[*********************100%***********************]  1 of 1 completed\n",
      "[*********************100%***********************]  1 of 1 completed\n",
      "[*********************100%***********************]  1 of 1 completed\n",
      "[*********************100%***********************]  1 of 1 completed\n",
      "[*********************100%***********************]  1 of 1 completed"
     ]
    },
    {
     "name": "stdout",
     "output_type": "stream",
     "text": [
      "                   SPY        BND         GLD         QQQ         VTI\n",
      "Date                                                                 \n",
      "2009-10-20   82.732643  51.659122  103.419998   37.748993   42.088776\n",
      "2009-10-21   81.990242  51.652626  103.750000   37.679123   41.677853\n",
      "2009-10-22   82.823555  51.606995  103.919998   37.827602   42.126839\n",
      "2009-10-23   81.876640  51.450684  103.489998   37.670387   41.586544\n",
      "2009-10-26   80.990273  51.385590  101.860001   37.548092   41.114738\n",
      "...                ...        ...         ...         ...         ...\n",
      "2024-10-09  577.140015  73.839996  241.050003  493.149994  284.500000\n",
      "2024-10-10  576.130005  73.809998  242.820007  492.589996  283.910004\n",
      "2024-10-11  579.580017  73.820000  245.470001  493.359985  286.109985\n",
      "2024-10-14  584.320007  73.769997  245.070007  497.500000  288.339996\n",
      "2024-10-15  579.260010  74.065002  245.990005  489.549988  286.190002\n",
      "\n",
      "[3772 rows x 5 columns]\n"
     ]
    },
    {
     "name": "stderr",
     "output_type": "stream",
     "text": [
      "\n"
     ]
    }
   ],
   "source": [
    "### Download the daily adjusted close prices for the tickers\n",
    "adj_close_df = pd.DataFrame()\n",
    "\n",
    "for ticker in tickers:\n",
    "    data = yf.download(ticker, start = startDate, end = endDate)\n",
    "    adj_close_df[ticker] = data['Adj Close']\n",
    "\n",
    "print(adj_close_df)"
   ]
  },
  {
   "cell_type": "code",
   "execution_count": 60,
   "metadata": {},
   "outputs": [
    {
     "name": "stdout",
     "output_type": "stream",
     "text": [
      "                 SPY       BND       GLD       QQQ       VTI\n",
      "Date                                                        \n",
      "2009-10-21 -0.009014 -0.000126  0.003186 -0.001853 -0.009811\n",
      "2009-10-22  0.010112 -0.000884  0.001637  0.003933  0.010715\n",
      "2009-10-23 -0.011499 -0.003033 -0.004146 -0.004165 -0.012908\n",
      "2009-10-26 -0.010885 -0.001266 -0.015876 -0.003252 -0.011410\n",
      "2009-10-27 -0.004594  0.003543 -0.000098 -0.015235 -0.005381\n",
      "...              ...       ...       ...       ...       ...\n",
      "2024-10-09  0.006903 -0.002705 -0.005461  0.007838  0.006949\n",
      "2024-10-10 -0.001752 -0.000406  0.007316 -0.001136 -0.002076\n",
      "2024-10-11  0.005970  0.000136  0.010854  0.001562  0.007719\n",
      "2024-10-14  0.008145 -0.000678 -0.001631  0.008356  0.007764\n",
      "2024-10-15 -0.008697  0.003991  0.003747 -0.016109 -0.007484\n",
      "\n",
      "[3771 rows x 5 columns]\n"
     ]
    }
   ],
   "source": [
    "### Calculate the daily log returns and drop any NAs\n",
    "log_returns = np.log(adj_close_df/adj_close_df.shift(1))\n",
    "log_returns  = log_returns.dropna()\n",
    "\n",
    "print(log_returns)"
   ]
  },
  {
   "cell_type": "code",
   "execution_count": 61,
   "metadata": {},
   "outputs": [],
   "source": [
    "# Create a function that will be used to calculate portfolio expected return\n",
    "# We are assuming that future returns are based on past returns, which is not a reliable assumption.\n",
    "def expected_return(weights, log_returns):\n",
    "    return np.sum(log_returns.mean()*weights)\n",
    "\n",
    "### Create a function that will be used to calculate portfolio standard deviation\n",
    "def standard_deviation (weights, cov_matrix):\n",
    "    variance = weights.T @ cov_matrix @ weights\n",
    "    return np.sqrt(variance)"
   ]
  },
  {
   "cell_type": "code",
   "execution_count": 62,
   "metadata": {},
   "outputs": [
    {
     "name": "stdout",
     "output_type": "stream",
     "text": [
      "              SPY           BND       GLD           QQQ           VTI\n",
      "SPY  1.165884e-04  1.584469e-09  0.000006  1.292785e-04  1.190075e-04\n",
      "BND  1.584469e-09  9.232729e-06  0.000009  8.435819e-07  1.928218e-07\n",
      "GLD  6.390673e-06  8.887812e-06  0.000097  7.459363e-06  6.983565e-06\n",
      "QQQ  1.292785e-04  8.435819e-07  0.000007  1.663167e-04  1.320228e-04\n",
      "VTI  1.190075e-04  1.928218e-07  0.000007  1.320228e-04  1.224579e-04\n"
     ]
    }
   ],
   "source": [
    "### Create a covariance matrix for all the securities\n",
    "cov_matrix = log_returns.cov()\n",
    "print(cov_matrix)"
   ]
  },
  {
   "cell_type": "code",
   "execution_count": 63,
   "metadata": {},
   "outputs": [],
   "source": [
    "### Create an equally weighted portfolio and find total portfolio expected return and standard deviation\n",
    "portfolio_value = 1000000\n",
    "weights = np.array([1/len(tickers)]*len(tickers))\n",
    "portfolio_expected_return = expected_return(weights, log_returns)\n",
    "portfolio_std_dev = standard_deviation (weights, cov_matrix)"
   ]
  },
  {
   "cell_type": "code",
   "execution_count": 64,
   "metadata": {},
   "outputs": [],
   "source": [
    "def random_z_score():\n",
    "    return np.random.normal(0, 1)\n",
    "\n",
    "### Create a function to calculate scenarioGainLoss\n",
    "days = 20\n",
    "\n",
    "def scenario_gain_loss(portfolio_value, portfolio_std_dev, z_score, days):\n",
    "    return portfolio_value * portfolio_expected_return * days + portfolio_value * portfolio_std_dev * z_score * np.sqrt(days)"
   ]
  },
  {
   "cell_type": "code",
   "execution_count": 68,
   "metadata": {},
   "outputs": [],
   "source": [
    "### Run 10000 simulations\n",
    "simulations = 100000\n",
    "scenarioReturn = []\n",
    "\n",
    "for i in range(simulations):\n",
    "    z_score = random_z_score()\n",
    "    scenarioReturn.append(scenario_gain_loss(portfolio_value, portfolio_std_dev, z_score, days))"
   ]
  },
  {
   "cell_type": "code",
   "execution_count": 69,
   "metadata": {},
   "outputs": [
    {
     "name": "stdout",
     "output_type": "stream",
     "text": [
      "68160.16682005674\n"
     ]
    }
   ],
   "source": [
    "### Specify a confidence interval and calculate the Value at Risk (VaR)\n",
    "confidence_interval = 0.99\n",
    "VaR = -np.percentile(scenarioReturn, 100 * (1 - confidence_interval))\n",
    "print(VaR)"
   ]
  },
  {
   "cell_type": "code",
   "execution_count": 70,
   "metadata": {},
   "outputs": [
    {
     "data": {
      "image/png": "[encoded data removed]",
      "text/plain": [
       "<Figure size 640x480 with 1 Axes>"
      ]
     },
     "metadata": {},
     "output_type": "display_data"
    }
   ],
   "source": [
    "### Plot the results of all 10000 scenarios\n",
    "plt.hist(scenarioReturn, bins=50, density=True)\n",
    "plt.xlabel('Scenario Gain/Loss ($)')\n",
    "plt.ylabel('Frequency')\n",
    "plt.title(f'Distribution of Portfolio Gain/Loss Over {days} Days')\n",
    "plt.axvline(-VaR, color='r', linestyle='dashed', linewidth=2, label=f'VaR at {confidence_interval:.0%} confidence level')\n",
    "plt.legend()\n",
    "plt.show()"
   ]
  },
  {
   "cell_type": "code",
   "execution_count": null,
   "metadata": {},
   "outputs": [],
   "source": []
  },
  {
   "cell_type": "code",
   "execution_count": null,
   "metadata": {},
   "outputs": [],
   "source": []
  }
 ],
 "metadata": {
  "kernelspec": {
   "display_name": "project",
   "language": "python",
   "name": "python3"
  },
  "language_info": {
   "codemirror_mode": {
    "name": "ipython",
    "version": 3
   },
   "file_extension": ".py",
   "mimetype": "text/x-python",
   "name": "python",
   "nbconvert_exporter": "python",
   "pygments_lexer": "ipython3",
   "version": "3.12.0"
  }
 },
 "nbformat": 4,
 "nbformat_minor": 2
}
