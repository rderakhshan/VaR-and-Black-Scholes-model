{
 "cells": [
  {
   "cell_type": "code",
   "execution_count": 3,
   "metadata": {},
   "outputs": [
    {
     "name": "stdout",
     "output_type": "stream",
     "text": [
      "add took 0.000001 seconds to run.\n",
      "Addition: 5889895630855\n",
      "subt took 0.000001 seconds to run.\n",
      "Subtraction: -5887882102209\n",
      "mul took 0.000001 seconds to run.\n",
      "Multiplication: 5928723212936326337836\n",
      "div took 0.000001 seconds to run.\n",
      "Division: 0.0001709599800264\n"
     ]
    }
   ],
   "source": [
    "import time\n",
    "\n",
    "# Decorator to measure the runtime of a function\n",
    "def time_it(func):\n",
    "    \n",
    "    def wrapper(a, b):\n",
    "        \n",
    "        start_time = time.time()  # Record the start time\n",
    "        result = func(a, b)       # Execute the function\n",
    "        end_time = time.time()    # Record the end time\n",
    "        runtime = end_time - start_time\n",
    "        print(f\"{func.__name__} took {runtime:.6f} seconds to run.\")\n",
    "        return result\n",
    "    \n",
    "    return wrapper\n",
    "\n",
    "# Applying the decorator to the functions\n",
    "@time_it\n",
    "def add(a, b):\n",
    "    return a + b\n",
    "\n",
    "@time_it\n",
    "def subt(a, b):\n",
    "    return a - b\n",
    "\n",
    "@time_it\n",
    "def div(a, b):\n",
    "    if b == 0:\n",
    "        raise ValueError(\"Division by zero is not allowed.\")\n",
    "    return a / b\n",
    "\n",
    "@time_it\n",
    "def mul(a, b):\n",
    "    return a * b\n",
    "\n",
    "# Example usage\n",
    "num1 = 1006764323\n",
    "num2 = 5888888866532\n",
    "\n",
    "print(\"Addition:\", add(num1, num2))\n",
    "print(\"Subtraction:\", subt(num1, num2))\n",
    "print(\"Multiplication:\", mul(num1, num2))\n",
    "print(\"Division:\", div(num1, num2))\n"
   ]
  },
  {
   "cell_type": "code",
   "execution_count": null,
   "metadata": {},
   "outputs": [],
   "source": []
  }
 ],
 "metadata": {
  "kernelspec": {
   "display_name": "project",
   "language": "python",
   "name": "python3"
  },
  "language_info": {
   "codemirror_mode": {
    "name": "ipython",
    "version": 3
   },
   "file_extension": ".py",
   "mimetype": "text/x-python",
   "name": "python",
   "nbconvert_exporter": "python",
   "pygments_lexer": "ipython3",
   "version": "3.12.0"
  }
 },
 "nbformat": 4,
 "nbformat_minor": 2
}
